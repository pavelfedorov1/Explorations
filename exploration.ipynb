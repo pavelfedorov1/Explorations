{
  "nbformat": 4,
  "nbformat_minor": 0,
  "metadata": {
    "colab": {
      "name": "exploration.ipynb",
      "provenance": []
    },
    "kernelspec": {
      "name": "python3",
      "display_name": "Python 3"
    },
    "language_info": {
      "name": "python"
    }
  },
  "cells": [
    {
      "cell_type": "markdown",
      "source": [
        "###Exploration: Empirical CDF, Inverse Transform Sampling and the Newsvendor Inventory Model\n",
        "\n"
      ],
      "metadata": {
        "id": "mTjk6hfz08xe"
      }
    },
    {
      "cell_type": "code",
      "execution_count": 2,
      "metadata": {
        "id": "NpkttlCbBX-9"
      },
      "outputs": [],
      "source": [
        "import numpy as np\n",
        "import pandas as pd\n",
        "import matplotlib.pyplot as plt\n",
        "%matplotlib inline"
      ]
    },
    {
      "cell_type": "markdown",
      "source": [
        "Suppose we have at our disposal a random sample of observations X with an unknown distribution.\n",
        "\n",
        "\n",
        "**Question 1: Can we obtain a cumulative distribution function based on this random sample?**\n",
        "\n",
        "**Question 2: Can we obtain the inverted CDF of such a cdf in question 1 that we can use to obtain a new random sample with the same unknown distribution (inverse-transform sampling)?**\n",
        "\n",
        "\n",
        "I use a X ~ Gamma(4) with 1000 samples as distribution to use but in actual fact we can use any distribution."
      ],
      "metadata": {
        "id": "HXzZ_BGFxenh"
      }
    },
    {
      "cell_type": "code",
      "source": [
        "x=np.random.gamma(4,size=1000)\n",
        "#plt.hist(x,bins=50);plt.show()"
      ],
      "metadata": {
        "id": "FXS8lXlbBgx_"
      },
      "execution_count": 3,
      "outputs": []
    },
    {
      "cell_type": "markdown",
      "source": [
        "**Empirical CDF is Defined**:\n",
        "<br>\n",
        "\n",
        "F(x) = $\\sum_{i=1}^{n}I_{x>i}$ / n\n",
        "\n",
        "where n = size of sample \n",
        "\n",
        "(definition taken from Larry Wasserman All of Statistics page 97)\n",
        "\n",
        "<br>\n",
        "\n",
        "**Inverse Empirical CDF**\n",
        "\n",
        "$F^{−1} : [0, 1] → \\mathbf{R}$\n",
        "\n",
        "$F^{-1}(u)$ = min$\\{x:u\\in\\mathbb[0,1]\\text{ and }F(x) \\ge u\\} $\n"
      ],
      "metadata": {
        "id": "UfYfq93VaI3m"
      }
    },
    {
      "cell_type": "code",
      "source": [
        "F=lambda m:sum([1 if i < m else 0 for i in x])/len(x) \n",
        "def F_inv(u,F):\n",
        "  l=[]\n",
        "  for x in np.linspace(0,15,500):\n",
        "    if F(x)>=u:\n",
        "      l.append(x)\n",
        "  return min(l)"
      ],
      "metadata": {
        "id": "UGMO7gsbBlWH"
      },
      "execution_count": 93,
      "outputs": []
    },
    {
      "cell_type": "code",
      "source": [
        "fig,ax=plt.subplots(nrows=1,ncols=2,figsize=(20,5))\n",
        "plt.suptitle(\"Visualizations of the F(x) and its inverse\")\n",
        "ax[0].scatter(x,[F(x) for x in x],label=\"F(x)\",alpha=0.3,s=3)\n",
        "ax[0].legend()\n",
        "u=np.linspace(0,1,500)\n",
        "ax[1].scatter(u,[F_inv(i,F) for i in u],label=\"inverse F(x)\",alpha=0.3,s=3);ax[1].legend()\n",
        "plt.show()"
      ],
      "metadata": {
        "colab": {
          "base_uri": "https://localhost:8080/",
          "height": 355
        },
        "id": "ov42RhnVmWP1",
        "outputId": "e015e41c-0149-42dd-f4c6-c23b94ca3898"
      },
      "execution_count": 98,
      "outputs": [
        {
          "output_type": "display_data",
          "data": {
            "text/plain": [
              "<Figure size 1440x360 with 2 Axes>"
            ],
            "image/png": "[encoded data removed]"
          },
          "metadata": {
            "needs_background": "light"
          }
        }
      ]
    },
    {
      "cell_type": "markdown",
      "source": [
        "### Newsvendor Model \n",
        "\n",
        "<br>\n",
        "\n",
        "The Newsvendor model assume Sales = S ~ Normal (mu, sigma^2). \n",
        "\n",
        "<br>\n",
        "\n",
        "We maximizing expected profit the single period optimal order quantity $q^{*}$.\n",
        "\n",
        "<br>\n",
        "\n",
        "Expected Profit = $E(p*min(S,q)-q*c-FC)$ \n",
        "\n",
        "<br>\n",
        "\n",
        "where p = price for the newspaper, c= variable cost per unit, FC=fixed cost\n",
        "\n",
        "\n",
        "<br>\n",
        "\n",
        "$I(q)$ = $p\\int_{-\\infty}^{\\infty} min(v,q) dv - q*c - FC =  p\\int_{-\\infty}^{q} vdv -p\\int_{q}^{\\infty}qdv- q*c - FC $\n",
        "\n",
        "<br>\n",
        "\n",
        "$\\frac{dI}{dq}=p*q*f(q) +p(1-F(q))-p*q*f(q) - c$ where f is the pdf of r.v. S\n",
        "\n",
        "<br>\n",
        "\n",
        "set $\\frac{dI}{dq}=0$ to obtain F(X $\\ge q^{*})$  = $\\frac{(p - c)}{p}$ \n",
        "\n",
        "<br>\n",
        "\n",
        "$\\frac{\\partial^2 I}{\\partial q^2} = -p*f(q) <0 $ hence I(q) is convex so $q^{*}$ maximizes our expected profit $I(q)$\n",
        "\n",
        "<br>\n",
        "\n",
        "if S is normally distributed this translates to $q^{*} = Φ^{-1}(\\frac{p-c}{p})$\n",
        "\n",
        "<br>\n",
        "\n",
        "but what if S is not normally distributed? \n",
        "\n",
        "<br>\n",
        "\n",
        "**in this case we can use our inverse empirical cdf described above in order to find the optimal order quantity q**"
      ],
      "metadata": {
        "id": "GfiDjubn3wuv"
      }
    },
    {
      "cell_type": "code",
      "source": [],
      "metadata": {
        "id": "owZlCD2O4xdF"
      },
      "execution_count": null,
      "outputs": []
    }
  ]
}